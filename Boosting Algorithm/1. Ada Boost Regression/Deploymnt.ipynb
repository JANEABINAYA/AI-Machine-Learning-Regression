{
 "cells": [
  {
   "cell_type": "code",
   "execution_count": 1,
   "id": "716282ad-2b42-4199-b6c0-091229e858cf",
   "metadata": {},
   "outputs": [],
   "source": [
    "import pickle"
   ]
  },
  {
   "cell_type": "code",
   "execution_count": 2,
   "id": "3eea2d46-fe3d-4d4b-8364-ace10a89b646",
   "metadata": {},
   "outputs": [
    {
     "name": "stderr",
     "output_type": "stream",
     "text": [
      "C:\\Users\\Felex\\anaconda3\\Lib\\site-packages\\sklearn\\base.py:493: UserWarning: X does not have valid feature names, but AdaBoostRegressor was fitted with feature names\n",
      "  warnings.warn(\n"
     ]
    }
   ],
   "source": [
    "loaded_model = pickle.load(open('finalized_model_mul_linear.sav', 'rb'))\n",
    "result = loaded_model.predict([[162597.70,151377.59,443898.53,0,0]])"
   ]
  },
  {
   "cell_type": "code",
   "execution_count": 3,
   "id": "64c911f8-6301-4bf8-8adb-6cf205fccebf",
   "metadata": {},
   "outputs": [
    {
     "data": {
      "text/plain": [
       "array([186976.19])"
      ]
     },
     "execution_count": 3,
     "metadata": {},
     "output_type": "execute_result"
    }
   ],
   "source": [
    "result"
   ]
  },
  {
   "cell_type": "code",
   "execution_count": null,
   "id": "2aefbeb0-b745-4a10-8470-627b6b5cb982",
   "metadata": {},
   "outputs": [],
   "source": []
  }
 ],
 "metadata": {
  "kernelspec": {
   "display_name": "Python 3 (ipykernel)",
   "language": "python",
   "name": "python3"
  },
  "language_info": {
   "codemirror_mode": {
    "name": "ipython",
    "version": 3
   },
   "file_extension": ".py",
   "mimetype": "text/x-python",
   "name": "python",
   "nbconvert_exporter": "python",
   "pygments_lexer": "ipython3",
   "version": "3.12.7"
  }
 },
 "nbformat": 4,
 "nbformat_minor": 5
}
